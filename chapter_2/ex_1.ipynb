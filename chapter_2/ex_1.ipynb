{
 "cells": [
  {
   "cell_type": "markdown",
   "id": "d701bbb2-1372-43c3-825a-e774e03691f4",
   "metadata": {},
   "source": [
    "### Write regular expressions for the following languages.\n",
    "- the set of all alphabetic strings;\n",
    "- the set of all lower case alphabetic strings ending in a b; \n",
    "- the set of all strings from the alphabet a,b such that each a is immediately preceded by and immediately followed by a b;"
   ]
  },
  {
   "cell_type": "code",
   "execution_count": 11,
   "id": "6388d718-089c-4040-a633-3730dde37108",
   "metadata": {
    "tags": []
   },
   "outputs": [
    {
     "name": "stdout",
     "output_type": "stream",
     "text": [
      "True\n",
      "True\n",
      "False\n"
     ]
    }
   ],
   "source": [
    "# the set of all alphabetic strings;\n",
    "\n",
    "import re\n",
    "\n",
    "pattern = '^[a-zA-Z]+$'\n",
    "\n",
    "def is_alphabetic(s):\n",
    "    return bool(re.match(pattern,s))\n",
    "\n",
    "print(is_alphabetic('abc'))\n",
    "print(is_alphabetic('AkasdhfaeBBBBSdfheiuf'))\n",
    "print(is_alphabetic('Abc123'))"
   ]
  },
  {
   "cell_type": "code",
   "execution_count": 44,
   "id": "4c52b58a-7a89-47c9-bac8-2e1df3850a72",
   "metadata": {
    "tags": []
   },
   "outputs": [
    {
     "name": "stdout",
     "output_type": "stream",
     "text": [
      "True\n",
      "True\n",
      "True\n",
      "False\n"
     ]
    }
   ],
   "source": [
    "#the set of all lower case alphabetic strings ending in a b; \n",
    "\n",
    "pattern = '^[a-z]*b$'\n",
    "\n",
    "def is_lowercase_ending_b(s):\n",
    "    return bool(re.match(pattern,s))\n",
    "\n",
    "print(is_lowercase_ending_b('ajdflajsdfkasjdfkjdb'))\n",
    "print(is_lowercase_ending_b('b'))\n",
    "print(is_lowercase_ending_b('bb'))\n",
    "print(is_lowercase_ending_b('bbcvcvcv'))"
   ]
  },
  {
   "cell_type": "code",
   "execution_count": 80,
   "id": "841278f2-8023-4774-bec0-7a833ca1cf41",
   "metadata": {
    "tags": []
   },
   "outputs": [
    {
     "name": "stdout",
     "output_type": "stream",
     "text": [
      "True\n",
      "True\n",
      "True\n",
      "True\n",
      "True\n",
      "True\n",
      "True\n",
      "False\n",
      "False\n"
     ]
    }
   ],
   "source": [
    "\"\"\"\n",
    "the set of all strings from the alphabet a,b such that each a \n",
    "is immediately preceded by and immediately followed by a b;\n",
    "\"\"\"\n",
    "\n",
    "pattern = '^b+(ab)*|(ba)*b+$'\n",
    "\n",
    "def is_matching_ab(s):\n",
    "    return bool(re.match(pattern,s))\n",
    "\n",
    "print(is_matching_ab('bbbbbbb'))\n",
    "print(is_matching_ab('bbbababababbbb'))\n",
    "print(is_matching_ab('bbbbab'))\n",
    "print(is_matching_ab('b'))\n",
    "print(is_matching_ab('babbbbbababb'))\n",
    "print(is_matching_ab('bab'))\n",
    "print(is_matching_ab('bbbbbbbb'))\n",
    "print(is_matching_ab('aaaaaa'))\n",
    "print(is_matching_ab('ababab'))"
   ]
  },
  {
   "cell_type": "markdown",
   "id": "24c4520e-f931-4270-baf3-d5546e1b4d68",
   "metadata": {},
   "source": [
    "### Write regular expressions for the following languages.\n",
    "By “word”, we mean an alphabetic string separated from other words by whitespace, any relevant\n",
    "punctuation, line breaks, and so forth.\n",
    "- the set of all strings with two consecutive repeated words (e.g., “Humbert Humbert” and “the the” but not “the bug” or “the big bug”);\n",
    "- all strings that start at the beginning of the line with an integer and that end at the end of the line with a word;\n",
    "-  all strings that have both the word grotto and the word raven in them (but not, e.g., words like grottos that merely contain the word grotto);\n",
    "- write a pattern that places the first word of an English sentence in aregister. Deal with punctuation"
   ]
  },
  {
   "cell_type": "code",
   "execution_count": 3,
   "id": "59f31149-2b62-45e3-bc93-d4381b3301ca",
   "metadata": {
    "tags": []
   },
   "outputs": [],
   "source": [
    "#TBD"
   ]
  },
  {
   "cell_type": "code",
   "execution_count": null,
   "id": "5aa07416-7d6c-4302-bfee-f658dde1daa5",
   "metadata": {},
   "outputs": [],
   "source": []
  }
 ],
 "metadata": {
  "kernelspec": {
   "display_name": "venv",
   "language": "python",
   "name": "venv"
  },
  "language_info": {
   "codemirror_mode": {
    "name": "ipython",
    "version": 3
   },
   "file_extension": ".py",
   "mimetype": "text/x-python",
   "name": "python",
   "nbconvert_exporter": "python",
   "pygments_lexer": "ipython3",
   "version": "3.11.5"
  }
 },
 "nbformat": 4,
 "nbformat_minor": 5
}
